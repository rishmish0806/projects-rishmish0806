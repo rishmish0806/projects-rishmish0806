{
  "cells": [
    {
      "cell_type": "code",
      "execution_count": null,
      "metadata": {
        "id": "Dw40PFcOFB53"
      },
      "outputs": [],
      "source": [
        "!pip install pathway bokeh --quiet"
      ]
    },
    {
      "cell_type": "code",
      "execution_count": null,
      "metadata": {
        "id": "-hQYdLu3FIPs"
      },
      "outputs": [],
      "source": [
        "# importing important libraries\n",
        "import numpy as np\n",
        "import pandas as pd\n",
        "import seaborn as sns\n",
        "import matplotlib.pyplot as plt\n",
        "import datetime\n",
        "import pathway as pw\n",
        "import bokeh.plotting\n",
        "import panel as pn"
      ]
    },
    {
      "cell_type": "code",
      "execution_count": null,
      "metadata": {
        "id": "ejhsK9iWFLM3"
      },
      "outputs": [],
      "source": [
        "# importing the csv file from GitHub\n",
        "url='https://raw.githubusercontent.com/rishmish0806/Capstone/refs/heads/main/dataset.csv'\n",
        "df=pd.read_csv(url)"
      ]
    },
    {
      "cell_type": "code",
      "execution_count": null,
      "metadata": {
        "id": "8TG3eHdoyf2D"
      },
      "outputs": [],
      "source": [
        "# creating 14 DataFrames for each Location\n",
        "df.SystemCodeNumber.unique()\n",
        "\n",
        "df_locations=[df[df['SystemCodeNumber']==loc] for loc in df.SystemCodeNumber.unique()]\n",
        "num_locs=len(df_locations)\n"
      ]
    },
    {
      "cell_type": "code",
      "execution_count": null,
      "metadata": {
        "id": "PaY0UonhFO5v"
      },
      "outputs": [],
      "source": [
        "# creating TimeStamp feature in every DataSet\n",
        "for df_i in df_locations:\n",
        "  df_i['Timestamp'] = pd.to_datetime(df_i['LastUpdatedDate'] + ' ' + df_i['LastUpdatedTime'],\n",
        "                                  format='%d-%m-%Y %H:%M:%S')\n",
        "\n",
        "  # Sorting the DataFrame by the new 'Timestamp' column and reset the index\n",
        "  df_i= df_i.sort_values('Timestamp').reset_index(drop=True)"
      ]
    },
    {
      "cell_type": "code",
      "execution_count": null,
      "metadata": {
        "colab": {
          "background_save": true
        },
        "id": "eLz_ittagJ7P"
      },
      "outputs": [],
      "source": [
        "  # encoding the traffic condition and 'Vehicle-Weight-Type'\n",
        "\n",
        "for df_i in df_locations:\n",
        "  encoding_dict1={'low':1,'average':2,'high':3}\n",
        "\n",
        "  df_i.TrafficConditionNearby=df_i['TrafficConditionNearby'].map(encoding_dict1)\n",
        "  df_i.head()\n",
        "\n",
        "  df_i['VehicleType'].unique()\n",
        "\n",
        "  encoding_dict2={'cycle':1,'bike':2,'car':3,'truck':4}\n",
        "  df_i['VehicleType']=df_i['VehicleType'].map(encoding_dict2)\n",
        "  df_i.head()\n",
        "num_locs=len(df_locations)"
      ]
    },
    {
      "cell_type": "code",
      "execution_count": null,
      "metadata": {
        "id": "cFaSSbQOFQC1"
      },
      "outputs": [],
      "source": [
        "idx=0\n",
        "a=1\n",
        "b=1.5\n",
        "c=1.2\n",
        "d=1.3\n",
        "e=5\n",
        "for df_i in df_locations:\n",
        "\n",
        "\n",
        "\n",
        "  df_i['Demand']=a*(df_i['Occupancy']/df_i['Capacity'])+b*df_i['QueueLength']-c*df_i['TrafficConditionNearby']+d*df_i['IsSpecialDay']+e*df_i['VehicleType']\n",
        "\n",
        "  # Creating subset properly -- I use .copy() to ensure that df_subset is independent of df_i\n",
        "  df_subset = df_i[['Timestamp','Demand']].copy()\n",
        "  df_subset.to_csv(f\"parking_stream{idx}.csv\", index=False)\n",
        "  idx+=1"
      ]
    },
    {
      "cell_type": "code",
      "execution_count": null,
      "metadata": {
        "id": "caAQH32yglCs"
      },
      "outputs": [],
      "source": [
        "# print(pd.read_csv(\"parking_stream.csv\").columns.tolist())"
      ]
    },
    {
      "cell_type": "code",
      "execution_count": null,
      "metadata": {
        "id": "6720wP9yFazm"
      },
      "outputs": [],
      "source": [
        "# creating Schema\n",
        "class ParkingSchema(pw.Schema):\n",
        "    Timestamp:str\n",
        "    Demand:float"
      ]
    },
    {
      "cell_type": "code",
      "execution_count": null,
      "metadata": {
        "id": "6jI4QAK0L6Af"
      },
      "outputs": [],
      "source": [
        "# creating mock-stream for different locations\n",
        "data_locations=[pw.demo.replay_csv(f\"parking_stream{i}.csv\", schema=ParkingSchema, input_rate=1000) for i in range(num_locs)]"
      ]
    },
    {
      "cell_type": "code",
      "execution_count": null,
      "metadata": {
        "id": "htojEwxnMDpQ"
      },
      "outputs": [],
      "source": [
        "# creating date_time Format and adding columns for time and day in a new data_frame\n",
        "\n",
        "fmt = \"%Y-%m-%d %H:%M:%S\"\n",
        "\n",
        "\n",
        "data_with_time_locations = [\n",
        "    data.with_columns(\n",
        "        t=pw.this.Timestamp.dt.strptime(fmt),  # Full timestamp\n",
        "        day_dt=pw.this.Timestamp.dt.strptime(fmt).dt.floor(\"1d\"),  # Date at midnight\n",
        "        Demand=pw.this.Demand\n",
        "    )\n",
        "    for data in data_locations\n",
        "]"
      ]
    },
    {
      "cell_type": "code",
      "execution_count": null,
      "metadata": {
        "id": "uIyZjmhnMHkF"
      },
      "outputs": [],
      "source": [
        "# here I have created delta_window in two steps\n",
        "# in the first step I have created a daily_stats -- in which I compute demand_max and demand_min for a day for each location, which is later used in normalization\n",
        "# in the second step I have created a delta-window which uses paramters from daily_stats -- to compute dynamic pricing\n",
        "\n",
        "\n",
        "Base_Price=10\n",
        "\n",
        "daily_stats = [\n",
        "    data_with_time.windowby(\n",
        "        pw.this.day_dt,\n",
        "        window=pw.temporal.tumbling(datetime.timedelta(days=1)),\n",
        "        behavior=pw.temporal.exactly_once_behavior()\n",
        "    )\n",
        "    .reduce(\n",
        "        day_dt=pw.reducers.any(pw.this.day_dt),\n",
        "        demand_max=pw.reducers.max(pw.this.Demand),\n",
        "        demand_min=pw.reducers.min(pw.this.Demand)\n",
        "    )\n",
        "    for data_with_time in data_with_time_locations\n",
        "]\n",
        "\n",
        "\n",
        "\n",
        "delta_window_locations = [\n",
        "    data_with_time.join(\n",
        "        stats,\n",
        "        pw.left.day_dt == pw.right.day_dt\n",
        "    ).select(\n",
        "        t=pw.left.t,\n",
        "        price=Base_Price * (1 + (pw.left.Demand - pw.right.demand_min) /\n",
        "                         (pw.right.demand_max - pw.right.demand_min + 1e-6))\n",
        "    )\n",
        "    for data_with_time, stats in zip(data_with_time_locations, daily_stats)\n",
        "]\n",
        "pn.extension()\n"
      ]
    },
    {
      "cell_type": "code",
      "execution_count": null,
      "metadata": {
        "id": "B635JuUkMHuA"
      },
      "outputs": [],
      "source": [
        "# defining price plotter function\n",
        "def price_plotter(source,title_of_plt):\n",
        "    fig = bokeh.plotting.figure(\n",
        "        height=400,\n",
        "        width=800,\n",
        "        title=title_of_plt,\n",
        "        x_axis_type=\"datetime\",\n",
        "    )\n",
        "    fig.line(\"t\", \"price\", source=source, line_width=3, color=\"navy\")\n",
        "    fig.circle(\"t\", \"price\", source=source, size=6, color=\"red\")\n",
        "\n",
        "    return fig"
      ]
    },
    {
      "cell_type": "code",
      "execution_count": null,
      "metadata": {
        "id": "8OMM770sP3mc"
      },
      "outputs": [],
      "source": [
        "# creating array of plots for different locations\n",
        "plots = []\n",
        "\n",
        "for i, source in enumerate(delta_window_locations):\n",
        "    viz = source.plot(lambda src: price_plotter(src, f\"Lot {i+1} Parking Price\"), sorting_col=\"t\")\n",
        "    plots.append(viz)\n",
        "\n",
        "dashboard = pn.Column(*plots, sizing_mode=\"stretch_width\")\n",
        "\n",
        "dashboard.servable(\"Multi-Plot Dashboard\")\n"
      ]
    },
    {
      "cell_type": "code",
      "execution_count": null,
      "metadata": {
        "id": "4Dicm7uBnyC9"
      },
      "outputs": [],
      "source": [
        "# running the stream\n",
        "%%capture --no-display\n",
        "pw.run()"
      ]
    }
  ],
  "metadata": {
    "colab": {
      "provenance": []
    },
    "kernelspec": {
      "display_name": "Python 3",
      "name": "python3"
    },
    "language_info": {
      "name": "python"
    }
  },
  "nbformat": 4,
  "nbformat_minor": 0
}