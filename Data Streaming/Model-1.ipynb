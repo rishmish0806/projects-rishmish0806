{
  "cells": [
    {
      "cell_type": "code",
      "execution_count": null,
      "metadata": {
        "colab": {
          "background_save": true
        },
        "id": "BQMP36oGT8FG"
      },
      "outputs": [],
      "source": [
        "!pip install pathway bokeh --quiet"
      ]
    },
    {
      "cell_type": "code",
      "execution_count": null,
      "metadata": {
        "id": "LwKIW_S3Uo6J"
      },
      "outputs": [],
      "source": [
        "# importing necessary Libraries\n",
        "import numpy as np\n",
        "import pandas as pd\n",
        "import matplotlib.pyplot as plt\n",
        "import datetime\n",
        "from datetime import datetime\n",
        "import pathway as pw\n",
        "import bokeh.plotting\n",
        "import panel as pn"
      ]
    },
    {
      "cell_type": "code",
      "execution_count": null,
      "metadata": {
        "id": "pfM1uTX6Usny"
      },
      "outputs": [],
      "source": [
        "# importing the csv file from GitHub\n",
        "url='https://raw.githubusercontent.com/rishmish0806/Capstone/refs/heads/main/dataset.csv'\n",
        "df=pd.read_csv(url)"
      ]
    },
    {
      "cell_type": "code",
      "execution_count": null,
      "metadata": {
        "id": "COXc9VWlUsp_"
      },
      "outputs": [],
      "source": [
        "# creating 14 DataFrames for each system\n",
        "df.SystemCodeNumber.unique()\n",
        "\n",
        "df_locations=[df[df['SystemCodeNumber']==loc] for loc in df.SystemCodeNumber.unique()]\n",
        "num_locs=len(df_locations)"
      ]
    },
    {
      "cell_type": "code",
      "execution_count": null,
      "metadata": {
        "id": "O-nEAATnbcHZ"
      },
      "outputs": [],
      "source": []
    },
    {
      "cell_type": "code",
      "execution_count": null,
      "metadata": {
        "id": "b47gWPiDUstS"
      },
      "outputs": [],
      "source": [
        "# creating TimeStamp feature in every DataSet\n",
        "for df_i in df_locations:\n",
        "  # Combine the 'LastUpdatedDate' and 'LastUpdatedTime' columns into a single datetime column\n",
        "  df_i['Timestamp'] = pd.to_datetime(df_i['LastUpdatedDate'] + ' ' + df_i['LastUpdatedTime'],\n",
        "                                  format='%d-%m-%Y %H:%M:%S')\n",
        "\n",
        "  # Sort the DataFrame by the new 'Timestamp' column and reset the index\n",
        "  df_i= df_i.sort_values('Timestamp').reset_index(drop=True)"
      ]
    },
    {
      "cell_type": "code",
      "execution_count": null,
      "metadata": {
        "id": "wJ-x0UuzUs3N"
      },
      "outputs": [],
      "source": [
        "idx=0\n",
        "for df_i in df_locations:\n",
        "  df_temp=df_i[[\"Timestamp\", \"Occupancy\", \"Capacity\"]]\n",
        "  df_temp['Occupancy_ratio']=df_i['Occupancy']/df_i['Capacity']\n",
        "  df_temp['Price']=df_temp['Occupancy_ratio']\n",
        "  df_temp['Price'] = 10 + df_temp['Occupancy_ratio'].cumsum()\n",
        "\n",
        "  df_temp=df_temp[['Timestamp','Price']]\n",
        "  df_temp.to_csv(f\"parking_stream{idx}.csv\", index=False)\n",
        "  idx+=1"
      ]
    },
    {
      "cell_type": "code",
      "execution_count": null,
      "metadata": {
        "id": "GeEjA-cZUs5L"
      },
      "outputs": [],
      "source": [
        "# creating a Parking-Stream Schema\n",
        "class ParkingSchema(pw.Schema):\n",
        "    Timestamp: str   # Timestamp of the observation (should ideally be in ISO format)\n",
        "    Price:np.double\n",
        "    Occupancy:int\n",
        "    Capacity:int"
      ]
    },
    {
      "cell_type": "code",
      "execution_count": null,
      "metadata": {
        "id": "1aBH7bauUs8i"
      },
      "outputs": [],
      "source": [
        "# creating mock-stream for different locations\n",
        "data_locations=[pw.demo.replay_csv(f\"parking_stream{i}.csv\", schema=ParkingSchema, input_rate=1000) for i in range(num_locs)]\n",
        "\n"
      ]
    },
    {
      "cell_type": "code",
      "execution_count": null,
      "metadata": {
        "id": "YhtBRIf4buJT"
      },
      "outputs": [],
      "source": [
        "# creating date_time Format\n",
        "\n",
        "fmt = \"%Y-%m-%d %H:%M:%S\"\n",
        "\n",
        "\n",
        "# creating mock_stream with time and day columns\n",
        "data_with_time_locations= [data.with_columns(\n",
        "    t = data.Timestamp.dt.strptime(fmt),\n",
        "    day = data.Timestamp.dt.strptime(fmt).dt.strftime(\"%Y-%m-%dT00:00:00\"),\n",
        ") for data in data_locations\n",
        "]\n",
        "\n",
        "# type(data_with_time_locations[0])"
      ]
    },
    {
      "cell_type": "code",
      "execution_count": null,
      "metadata": {
        "id": "WFvRaGbIbuL-"
      },
      "outputs": [],
      "source": [
        "delta_window_locations = [\n",
        "    data_with_time.windowby(\n",
        "        pw.this.t,\n",
        "        instance=pw.this.day,\n",
        "        window=pw.temporal.tumbling(datetime.timedelta(days=1)),\n",
        "        behavior=pw.temporal.exactly_once_behavior()\n",
        "    )\n",
        "    # Use select() instead of reduce() to keep original values\n",
        "    .select(\n",
        "        t=pw.this._pw_window_end,\n",
        "        price=pw.this.Price  # Keep original price values\n",
        "    )\n",
        "    for data_with_time in data_with_time_locations\n",
        "]"
      ]
    },
    {
      "cell_type": "code",
      "execution_count": null,
      "metadata": {
        "id": "u0XHZ9nfejqi"
      },
      "outputs": [],
      "source": [
        "# Activate the Panel extension to enable interactive visualizations\n",
        "pn.extension()\n",
        "\n",
        "# Define a custom Bokeh plotting function that takes a data source (from Pathway) and returns a figure\n",
        "def price_plotter(source):\n",
        "    # Create a Bokeh figure with datetime x-axis\n",
        "    fig = bokeh.plotting.figure(\n",
        "        height=400,\n",
        "        width=800,\n",
        "        title=\"Pathway: Daily Parking Price\",\n",
        "        x_axis_type=\"datetime\",  # Ensure time-based data is properly formatted on the x-axis\n",
        "    )\n",
        "    # Plot a line graph showing how the price evolves over time\n",
        "    fig.line(\"t\", \"price\", source=source, line_width=2, color=\"navy\")\n",
        "\n",
        "    # Overlay red circles at each data point for better visibility\n",
        "    fig.circle(\"t\", \"price\", source=source, size=6, color=\"red\")\n",
        "\n",
        "    return fig"
      ]
    },
    {
      "cell_type": "code",
      "execution_count": null,
      "metadata": {
        "id": "AHYCVCYXejsb"
      },
      "outputs": [],
      "source": [
        "# creating a dash_board\n",
        "\n",
        "\n",
        "# Creating a list to store visualizations\n",
        "plots = []\n",
        "\n",
        "# Generate a plot for each data source\n",
        "for i, source in enumerate(delta_window_locations):\n",
        "    # Create visualization using your existing price_plotter\n",
        "    viz = source.plot(price_plotter, sorting_col=\"t\")\n",
        "    plots.append(viz)\n",
        "\n",
        "# Combine all plots into a Column (vertical layout)\n",
        "dashboard = pn.Column(*plots, sizing_mode=\"stretch_width\")\n",
        "\n",
        "# Serve the dashboard\n",
        "dashboard.servable(\"Multi-Plot Dashboard\")\n"
      ]
    },
    {
      "cell_type": "code",
      "execution_count": null,
      "metadata": {
        "colab": {
          "background_save": true
        },
        "id": "gnTdM1t-ejv2"
      },
      "outputs": [],
      "source": [
        "# Start the Pathway pipeline execution in the background\n",
        "# - This triggers the real-time data stream processing defined above\n",
        "# - %%capture --no-display suppresses output in the notebook interface\n",
        "\n",
        "%%capture --no-display\n",
        "pw.run()"
      ]
    }
  ],
  "metadata": {
    "colab": {
      "provenance": []
    },
    "kernelspec": {
      "display_name": "Python 3",
      "name": "python3"
    },
    "language_info": {
      "name": "python"
    }
  },
  "nbformat": 4,
  "nbformat_minor": 0
}