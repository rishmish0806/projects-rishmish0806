{
 "cells": [
  {
   "cell_type": "code",
   "execution_count": 83,
   "id": "41d49199-e930-4d3f-88eb-ef12327d5625",
   "metadata": {},
   "outputs": [],
   "source": [
    "import pandas as pd\n",
    "import numpy as np\n",
    "import seaborn as sns\n",
    "import matplotlib.pyplot as plt"
   ]
  },
  {
   "cell_type": "code",
   "execution_count": 95,
   "id": "f13c4b27-c087-4372-8675-296c408ddb70",
   "metadata": {},
   "outputs": [
    {
     "name": "stdout",
     "output_type": "stream",
     "text": [
      "<class 'pandas.core.frame.DataFrame'>\n",
      "Index: 1952 entries, 0 to 1965\n",
      "Data columns (total 10 columns):\n",
      " #   Column     Non-Null Count  Dtype  \n",
      "---  ------     --------------  -----  \n",
      " 0   SEQN       1952 non-null   float64\n",
      " 1   RIDAGEYR   1952 non-null   float64\n",
      " 2   RIAGENDR   1952 non-null   float64\n",
      " 3   PAQ605     1952 non-null   float64\n",
      " 4   BMXBMI     1952 non-null   float64\n",
      " 5   LBXGLU     1952 non-null   float64\n",
      " 6   DIQ010     1952 non-null   float64\n",
      " 7   LBXGLT     1952 non-null   float64\n",
      " 8   LBXIN      1952 non-null   float64\n",
      " 9   age_group  1952 non-null   object \n",
      "dtypes: float64(9), object(1)\n",
      "memory usage: 167.8+ KB\n"
     ]
    },
    {
     "name": "stderr",
     "output_type": "stream",
     "text": [
      "C:\\Users\\Rishabh Mishra\\miniconda3\\Lib\\site-packages\\joblib\\externals\\loky\\process_executor.py:782: UserWarning: A worker stopped while some jobs were given to the executor. This can be caused by a too short worker timeout or by a memory leak.\n",
      "  warnings.warn(\n"
     ]
    },
    {
     "name": "stdout",
     "output_type": "stream",
     "text": [
      "exe\n"
     ]
    }
   ],
   "source": [
    "data=pd.read_csv(\"Train_Data.csv\")\n",
    "data.head()\n",
    "fill=data.groupby(\"age_group\").mean()\n",
    "fill\n",
    "data.fillna(data.groupby(\"age_group\").transform(\"mean\"),inplace=True)\n",
    "data.dropna(subset=[\"age_group\"],inplace=True)\n",
    "data.info()\n",
    "\n",
    "\n",
    "from sklearn.preprocessing import StandardScaler\n",
    "std=StandardScaler()\n",
    "y=data.age_group\n",
    "X=data.drop(\"age_group\",axis=1)\n",
    "# X=pd.DataFrame(std.fit_transform(X),columns=X.columns)\n",
    "# X.head()\n",
    "\n",
    "\n",
    "\n",
    "\n",
    "\n",
    "from sklearn.preprocessing import LabelEncoder\n",
    "enc=LabelEncoder()\n",
    "y=enc.fit_transform(y)\n",
    "pd.Series(y).value_counts()\n",
    "\n",
    "\n",
    "\n",
    "\n",
    "from sklearn.ensemble import RandomForestClassifier\n",
    "from sklearn.model_selection import GridSearchCV\n",
    "params={\n",
    "    'n_estimators':[100,200,300],\n",
    "    'max_depth':[10,20,30],\n",
    "    'min_samples_split':[2,5,10],\n",
    "    'min_samples_leaf':[1,2,4]\n",
    "}\n",
    "\n",
    "grid_search=GridSearchCV(\n",
    "    estimator=RandomForestClassifier(),\n",
    "    param_grid=params,\n",
    "    cv=5,\n",
    "    n_jobs=-1\n",
    ")\n",
    "grid_search.fit(X,y)\n",
    "best_params=grid_search.best_params_\n",
    "\n",
    "model=RandomForestClassifier(**best_params,random_state=42)\n",
    "model.fit(X,y)\n",
    "print(\"exe\")"
   ]
  },
  {
   "cell_type": "code",
   "execution_count": 97,
   "id": "d709aa5f-babe-4cf7-bb82-84af94d8cce4",
   "metadata": {},
   "outputs": [
    {
     "name": "stdout",
     "output_type": "stream",
     "text": [
      "<class 'pandas.core.frame.DataFrame'>\n",
      "RangeIndex: 312 entries, 0 to 311\n",
      "Data columns (total 9 columns):\n",
      " #   Column    Non-Null Count  Dtype  \n",
      "---  ------    --------------  -----  \n",
      " 0   SEQN      312 non-null    float64\n",
      " 1   RIDAGEYR  312 non-null    float64\n",
      " 2   RIAGENDR  312 non-null    float64\n",
      " 3   PAQ605    312 non-null    float64\n",
      " 4   BMXBMI    312 non-null    float64\n",
      " 5   LBXGLU    312 non-null    float64\n",
      " 6   DIQ010    312 non-null    float64\n",
      " 7   LBXGLT    312 non-null    float64\n",
      " 8   LBXIN     312 non-null    float64\n",
      "dtypes: float64(9)\n",
      "memory usage: 22.1 KB\n",
      "exe\n"
     ]
    }
   ],
   "source": [
    "data2=pd.read_csv(\"Test_Data.csv\")\n",
    "data2.fillna(data2.mean(),inplace=True)\n",
    "data2.info()\n",
    "\n",
    "y_pred2=model.predict(data2)\n",
    "y_pred2\n",
    "\n",
    "sub_df=pd.DataFrame(y_pred2,columns=['age_group'])\n",
    "sub_df.to_csv(\"submission3.csv\",index=False)\n",
    "print(\"exe\")"
   ]
  },
  {
   "cell_type": "code",
   "execution_count": null,
   "id": "e02dd898-df3e-4684-85d4-8b1a210ffa6f",
   "metadata": {},
   "outputs": [],
   "source": []
  }
 ],
 "metadata": {
  "kernelspec": {
   "display_name": "Python 3 (ipykernel)",
   "language": "python",
   "name": "python3"
  },
  "language_info": {
   "codemirror_mode": {
    "name": "ipython",
    "version": 3
   },
   "file_extension": ".py",
   "mimetype": "text/x-python",
   "name": "python",
   "nbconvert_exporter": "python",
   "pygments_lexer": "ipython3",
   "version": "3.13.2"
  }
 },
 "nbformat": 4,
 "nbformat_minor": 5
}
